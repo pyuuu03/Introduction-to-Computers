{
  "nbformat": 4,
  "nbformat_minor": 0,
  "metadata": {
    "colab": {
      "provenance": [],
      "authorship_tag": "ABX9TyM9vSQFTiowVqIw8hvYWi8b",
      "include_colab_link": true
    },
    "kernelspec": {
      "name": "python3",
      "display_name": "Python 3"
    },
    "language_info": {
      "name": "python"
    }
  },
  "cells": [
    {
      "cell_type": "markdown",
      "metadata": {
        "id": "view-in-github",
        "colab_type": "text"
      },
      "source": [
        "<a href=\"https://colab.research.google.com/github/pyuuu03/Introduction-to-Computers/blob/main/0515.ipynb\" target=\"_parent\"><img src=\"https://colab.research.google.com/assets/colab-badge.svg\" alt=\"Open In Colab\"/></a>"
      ]
    },
    {
      "cell_type": "code",
      "execution_count": 1,
      "metadata": {
        "colab": {
          "base_uri": "https://localhost:8080/"
        },
        "id": "SxSx0RdjQ4I3",
        "outputId": "01ae330d-ae22-4565-e615-aa52e12261a5"
      },
      "outputs": [
        {
          "output_type": "stream",
          "name": "stdout",
          "text": [
            "0515\n"
          ]
        }
      ],
      "source": [
        "print(\"0515\")"
      ]
    },
    {
      "cell_type": "code",
      "source": [
        "rain = str(input(\"今天會下雨嗎？\"))\n",
        "if (rain ==\"Y\" or rain ==\"y\"):\n",
        "  print(\"出門記得帶傘！\")\n",
        "elif (rain ==\"N\" or rain ==\"n\"):\n",
        "  print(\"出門記得帶傘！\")\n",
        "else:\n",
        "  print(\"請重新輸入！\")"
      ],
      "metadata": {
        "colab": {
          "base_uri": "https://localhost:8080/"
        },
        "id": "eKTLm5A3RC1f",
        "outputId": "b75fe2fe-7af6-4750-9b05-347ee58b2c56"
      },
      "execution_count": 9,
      "outputs": [
        {
          "output_type": "stream",
          "name": "stdout",
          "text": [
            "今天會下雨嗎？O\n",
            "請重新輸入！\n"
          ]
        }
      ]
    },
    {
      "cell_type": "code",
      "source": [
        "rain = str(input(\"今天會下雨嗎？\"))\n",
        "if(rain ==\"Y\"):\n",
        "  print(\"出門記得帶傘！\")\n",
        "elif(rain ==\"y\"):\n",
        "  print(\"出門記得帶傘！\")\n",
        "elif(rain ==\"N\"):\n",
        "  print(\"出門記得帶傘！\")\n",
        "elif(rain ==\"n\"):\n",
        "  print(\"出門記得帶傘！\")\n",
        "else:\n",
        "  print(\"請重新輸入！\")"
      ],
      "metadata": {
        "colab": {
          "base_uri": "https://localhost:8080/"
        },
        "id": "_KcywmgORDEU",
        "outputId": "96960588-0c09-44d5-c173-aa139d04a5f4"
      },
      "execution_count": 7,
      "outputs": [
        {
          "output_type": "stream",
          "name": "stdout",
          "text": [
            "今天會下雨嗎？o\n",
            "請重新輸入！\n"
          ]
        }
      ]
    },
    {
      "cell_type": "code",
      "source": [
        "temperature = int(input(\"體溫：\"))\n",
        "if temperature >= 37.5:\n",
        "  print(\"體溫過高！\")\n",
        "elif temperature <= 37.4 and temperature >= 37:\n",
        "  print(\"體溫略高！\")\n",
        "elif temperature <= 36.9 and temperature >= 34:\n",
        "  print(\"體溫正常！\")\n",
        "else:\n",
        "  print(\"體溫異常，請重新測量！\")"
      ],
      "metadata": {
        "colab": {
          "base_uri": "https://localhost:8080/"
        },
        "id": "emHViWY1RDh8",
        "outputId": "3bc41b5b-c3ef-4be6-d20a-e6a084ec689c"
      },
      "execution_count": 11,
      "outputs": [
        {
          "output_type": "stream",
          "name": "stdout",
          "text": [
            "體溫：37\n",
            "體溫略高！\n"
          ]
        }
      ]
    },
    {
      "cell_type": "code",
      "source": [
        "score = int(input(\"請輸入成績:\"))\n",
        "if score >= 90:\n",
        "  print('A')\n",
        "elif score <= 89 and score >= 80:\n",
        "  print('B') \n",
        "elif score <= 79 and score >= 70:\n",
        "  print('C')\n",
        "elif score <= 69 and score >= 60:\n",
        "  print('D')\n",
        "else:\n",
        "  print('E')"
      ],
      "metadata": {
        "colab": {
          "base_uri": "https://localhost:8080/"
        },
        "id": "uSabY9tERDqG",
        "outputId": "591de020-476b-4897-8eea-76d707f0f616"
      },
      "execution_count": 12,
      "outputs": [
        {
          "output_type": "stream",
          "name": "stdout",
          "text": [
            "請輸入成績:89\n",
            "B\n"
          ]
        }
      ]
    },
    {
      "cell_type": "code",
      "source": [
        "month = int(input(\"請輸入月份\"))\n",
        "if(month == 3 or month == 4 or month == 5):\n",
        "  print(month,\"月是春天\")\n",
        "\n",
        "if(month == 6 or month == 7 or month == 8):\n",
        "  print(month,\"月是夏天\")\n",
        "if(month == 9 or month == 10 or month == 11):\n",
        "  print(month,\"月是秋天\")\n",
        "if(month == 12 or month== 1 or month == 2):\n",
        "  print(month,\"月是冬天\")"
      ],
      "metadata": {
        "colab": {
          "base_uri": "https://localhost:8080/"
        },
        "id": "HGjWuSenRDxS",
        "outputId": "daff89d5-f74b-4be5-cf10-bba05da633a4"
      },
      "execution_count": 15,
      "outputs": [
        {
          "output_type": "stream",
          "name": "stdout",
          "text": [
            "請輸入月份12\n",
            "12 月是冬天\n"
          ]
        }
      ]
    },
    {
      "cell_type": "code",
      "source": [],
      "metadata": {
        "id": "7uZ3o4_sRD3j"
      },
      "execution_count": null,
      "outputs": []
    },
    {
      "cell_type": "code",
      "source": [],
      "metadata": {
        "id": "MaaQXDGqRD9T"
      },
      "execution_count": null,
      "outputs": []
    },
    {
      "cell_type": "code",
      "source": [],
      "metadata": {
        "id": "3i3geYQFRElH"
      },
      "execution_count": null,
      "outputs": []
    },
    {
      "cell_type": "code",
      "source": [],
      "metadata": {
        "id": "HDFEqTL0RFHz"
      },
      "execution_count": null,
      "outputs": []
    },
    {
      "cell_type": "code",
      "source": [],
      "metadata": {
        "id": "sz3xXO88RFPm"
      },
      "execution_count": null,
      "outputs": []
    }
  ]
}